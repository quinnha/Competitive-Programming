{
 "cells": [
  {
   "cell_type": "markdown",
   "metadata": {},
   "source": [
    "## 2D Array DS\n",
    "\n",
    "https://www.hackerrank.com/challenges/2d-array/problem"
   ]
  },
  {
   "cell_type": "code",
   "execution_count": 10,
   "metadata": {},
   "outputs": [
    {
     "name": "stdout",
     "output_type": "stream",
     "text": [
      "1   1   1   1   1   1   1\n",
      "1   1   0   0   1   1   0\n",
      "1   0   0   0   1   0   0\n",
      "0   0   0   0   0   0   0\n",
      "0   1   0   1   0   0   2\n",
      "1   0   0   1   0   2   4\n",
      "0   0   0   0   2   4   4\n",
      "0   0   0   0   4   4   0\n",
      "1   1   1   0   0   0   0\n",
      "1   1   0   2   0   0   2\n",
      "1   0   0   4   0   2   0\n",
      "0   0   0   4   2   0   0\n",
      "0   0   2   0   0   0   1\n",
      "0   2   4   0   0   1   2\n",
      "2   4   4   2   1   2   4\n",
      "4   4   0   0   2   4   0\n"
     ]
    },
    {
     "data": {
      "text/plain": [
       "19"
      ]
     },
     "execution_count": 10,
     "metadata": {},
     "output_type": "execute_result"
    }
   ],
   "source": [
    "def hourglassSum(arr):\n",
    "    max_row = max_col = 4\n",
    "    sums = [ [0]*4 for i in range(4)]\n",
    "    for i in range(max_row):\n",
    "        for j in range(max_col):\n",
    "            print(arr[i][j] , ' ',arr[i][j+1], ' ', arr[i][j+2],\n",
    "                  ' ', arr[i+1][j+1], ' ',arr[i+2][j], ' ', arr[i+2][j+1], ' ', arr[i+2][j+2])\n",
    "            sums[i][j] = arr[i][j] + arr[i][j+1] + arr[i][j+2] + arr[i+1][j+1] + arr[i+2][j] + arr[i+2][j+1] + arr[i+2][j+2]\n",
    "    \n",
    "        \n",
    "    return max(map(max,sums))\n",
    "x = [[1,1,1,0,0,0],[0,1,0,0,0,0],[1,1,1,0,0,0],[0,0,2,4,4,0],[0,0,0,2,0,0],[0,0,1,2,4,0]]\n",
    "\n",
    "hourglassSum(x)"
   ]
  },
  {
   "cell_type": "code",
   "execution_count": null,
   "metadata": {},
   "outputs": [],
   "source": []
  }
 ],
 "metadata": {
  "kernelspec": {
   "display_name": "Python 3",
   "language": "python",
   "name": "python3"
  },
  "language_info": {
   "codemirror_mode": {
    "name": "ipython",
    "version": 3
   },
   "file_extension": ".py",
   "mimetype": "text/x-python",
   "name": "python",
   "nbconvert_exporter": "python",
   "pygments_lexer": "ipython3",
   "version": "3.8.5"
  }
 },
 "nbformat": 4,
 "nbformat_minor": 4
}
