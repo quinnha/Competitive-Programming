{
 "cells": [
  {
   "cell_type": "markdown",
   "metadata": {},
   "source": [
    "## New Year Chaos\n",
    "\n",
    "https://www.hackerrank.com/challenges/new-year-chaos/problem"
   ]
  },
  {
   "cell_type": "code",
   "execution_count": 5,
   "metadata": {},
   "outputs": [
    {
     "name": "stdout",
     "output_type": "stream",
     "text": [
      "3\n"
     ]
    }
   ],
   "source": [
    "def minimumBribes(q):\n",
    "    counts = 0\n",
    "    for i in range(len(q)):\n",
    "        if (q[i]-(i+1)) > 2:\n",
    "            counts = 'Too chaotic'\n",
    "            break\n",
    "        for j in range(i):\n",
    "            if q[j] > q[i]:\n",
    "                counts += 1\n",
    "        \n",
    "    print(counts)\n",
    "minimumBribes([2,1,5,3,4])"
   ]
  },
  {
   "cell_type": "code",
   "execution_count": 15,
   "metadata": {},
   "outputs": [
    {
     "name": "stdout",
     "output_type": "stream",
     "text": [
      "3\n"
     ]
    }
   ],
   "source": [
    "#Better solution\n",
    "def n(Q):\n",
    "    moves = 0 \n",
    "    Q = [P-1 for P in Q]\n",
    "\n",
    "    \n",
    "    for i,P in enumerate(Q):\n",
    "\n",
    "        if P - i > 2:\n",
    "            print(\"Too chaotic\")\n",
    "            break\n",
    "\n",
    "        for j in range(max(P-1,0),i):\n",
    "            if Q[j] > P:\n",
    "                moves += 1\n",
    "    print(moves)\n",
    "n([2,1,5,3,4])"
   ]
  }
 ],
 "metadata": {
  "kernelspec": {
   "display_name": "Python 3",
   "language": "python",
   "name": "python3"
  },
  "language_info": {
   "codemirror_mode": {
    "name": "ipython",
    "version": 3
   },
   "file_extension": ".py",
   "mimetype": "text/x-python",
   "name": "python",
   "nbconvert_exporter": "python",
   "pygments_lexer": "ipython3",
   "version": "3.8.5"
  }
 },
 "nbformat": 4,
 "nbformat_minor": 4
}
