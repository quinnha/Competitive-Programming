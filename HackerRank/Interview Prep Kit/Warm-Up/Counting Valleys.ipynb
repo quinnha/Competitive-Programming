{
 "cells": [
  {
   "cell_type": "markdown",
   "metadata": {},
   "source": [
    "## Counting Valleys\n",
    "\n",
    "https://www.hackerrank.com/challenges/counting-valleys/problem?h_l=interview&playlist_slugs%5B%5D=interview-preparation-kit&playlist_slugs%5B%5D=warmup"
   ]
  },
  {
   "cell_type": "code",
   "execution_count": 1,
   "metadata": {},
   "outputs": [
    {
     "data": {
      "text/plain": [
       "1"
      ]
     },
     "execution_count": 1,
     "metadata": {},
     "output_type": "execute_result"
    }
   ],
   "source": [
    "def countingValleys(steps, path):\n",
    "    level = 0\n",
    "    before_level = 0 \n",
    "    valleys = 0\n",
    "    for  i in path:\n",
    "        before_level = level\n",
    "        if i =='D':\n",
    "            level -= 1\n",
    "        elif i =='U':\n",
    "            level += 1\n",
    "        if level < 0 and before_level == 0:\n",
    "            valleys += 1\n",
    "    return valleys\n",
    "countingValleys(8,'UDDDUDUU')"
   ]
  }
 ],
 "metadata": {
  "kernelspec": {
   "display_name": "Python 3",
   "language": "python",
   "name": "python3"
  },
  "language_info": {
   "codemirror_mode": {
    "name": "ipython",
    "version": 3
   },
   "file_extension": ".py",
   "mimetype": "text/x-python",
   "name": "python",
   "nbconvert_exporter": "python",
   "pygments_lexer": "ipython3",
   "version": "3.8.5"
  }
 },
 "nbformat": 4,
 "nbformat_minor": 4
}
