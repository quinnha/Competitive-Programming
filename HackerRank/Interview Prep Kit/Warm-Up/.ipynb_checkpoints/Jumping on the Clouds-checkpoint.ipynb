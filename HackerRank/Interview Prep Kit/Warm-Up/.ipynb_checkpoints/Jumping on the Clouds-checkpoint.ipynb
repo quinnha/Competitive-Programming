{
 "cells": [
  {
   "cell_type": "markdown",
   "metadata": {},
   "source": [
    "## Jumping on the Clouds\n",
    "\n",
    "https://www.hackerrank.com/challenges/jumping-on-the-clouds/problem?h_l=interview&playlist_slugs%5B%5D=interview-preparation-kit&playlist_slugs%5B%5D=warmup"
   ]
  },
  {
   "cell_type": "code",
   "execution_count": 48,
   "metadata": {},
   "outputs": [
    {
     "name": "stdout",
     "output_type": "stream",
     "text": [
      "4 jumps minimum until the end\n"
     ]
    }
   ],
   "source": [
    "c = [0,0,0,1,0,0]\n",
    "c = [0,0,1,0,0,1,0]\n",
    "def jumpingOnClouds(c):\n",
    "    counter = 0\n",
    "    run = 0\n",
    "    i =0 \n",
    "    while (i < len(c) - 1):\n",
    "        try:\n",
    "            if c[i+2] == 0:\n",
    "                counter += 1\n",
    "                i += 2\n",
    "            elif c[i+1] == 0:\n",
    "                counter +=1\n",
    "                i+=1\n",
    "            else:\n",
    "                break\n",
    "        except:\n",
    "            if c[i+1] == 0:\n",
    "                counter +=1\n",
    "                break\n",
    "    return counter\n",
    "\n",
    "print(jumpingOnClouds(c), 'jumps minimum until the end')\n",
    "        "
   ]
  }
 ],
 "metadata": {
  "kernelspec": {
   "display_name": "Python 3",
   "language": "python",
   "name": "python3"
  },
  "language_info": {
   "codemirror_mode": {
    "name": "ipython",
    "version": 3
   },
   "file_extension": ".py",
   "mimetype": "text/x-python",
   "name": "python",
   "nbconvert_exporter": "python",
   "pygments_lexer": "ipython3",
   "version": "3.8.5"
  }
 },
 "nbformat": 4,
 "nbformat_minor": 4
}
